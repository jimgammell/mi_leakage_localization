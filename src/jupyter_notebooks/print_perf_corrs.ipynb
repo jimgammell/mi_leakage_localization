{
 "cells": [
  {
   "cell_type": "code",
   "execution_count": 26,
   "metadata": {},
   "outputs": [],
   "source": [
    "import os\n",
    "import pickle\n",
    "import numpy as np"
   ]
  },
  {
   "cell_type": "code",
   "execution_count": 27,
   "metadata": {},
   "outputs": [],
   "source": [
    "base_dir = r'/home/jgammell/Desktop/mi_leakage_localization/outputs/performance_correlation_computations'"
   ]
  },
  {
   "cell_type": "code",
   "execution_count": 28,
   "metadata": {},
   "outputs": [
    {
     "name": "stdout",
     "output_type": "stream",
     "text": [
      "ascadv1f\n",
      "ablation: 0.058009307483806595 +/- 0.01797260468308484\n",
      "all: 0.13793871160607019 +/- 0.007291267330853618\n",
      "gradvis: 0.1364952908737958 +/- 0.01622868094934877\n",
      "inputxgrad: 0.08692087916721063 +/- 0.013889487682101125\n",
      "cpa: -0.03632538153705379 +/- 0.0 [-0.03632538153705379]\n",
      "snr: -0.09176779023764801 +/- 0.0 [-0.09176779023764801]\n",
      "sosd: -0.010450235736658544 +/- 0.0 [-0.010450235736658544]\n",
      "cpa_gt: 0.1875828437386276 +/- 0.0 [0.1875828437386276]\n",
      "snr_gt: 0.19784836156233176 +/- 0.0 [0.19784836156233176]\n",
      "sosd_gt: 0.19340254789003805 +/- 0.0 [0.19340254789003805]\n",
      "\n",
      "dpav4\n",
      "ablation: 0.051154050269042926 +/- 0.0021625696714818086\n",
      "all: 0.04013662694438081 +/- 0.002555399008533919\n",
      "gradvis: 0.0621625374529148 +/- 0.00410471371330936\n",
      "inputxgrad: 0.05074315185080784 +/- 0.0022979368867141903\n",
      "cpa: 0.05859784847436299 +/- 0.0 [0.05859784847436299]\n",
      "snr: 0.048906747685454305 +/- 0.0 [0.048906747685454305]\n",
      "sosd: 0.0739886470250043 +/- 0.0 [0.0739886470250043]\n",
      "\n"
     ]
    }
   ],
   "source": [
    "for dataset_dir in ['ascadv1f', 'dpav4']:\n",
    "    print(dataset_dir)\n",
    "    random_corrs = []\n",
    "    for technique in ['ablation', 'all', 'gradvis', 'inputxgrad']:\n",
    "        corrs = []\n",
    "        for seed in range(5):\n",
    "            with open(os.path.join(base_dir, dataset_dir, f'{technique}__perfcorr__seed={seed}.pickle'), 'rb') as f:\n",
    "                results = pickle.load(f)\n",
    "            corrs.append(results['corr'])\n",
    "        print(f'{technique}: {np.mean(corrs)} +/- {np.std(corrs)}')\n",
    "    for technique in ['cpa', 'snr', 'sosd']:\n",
    "        corrs = []\n",
    "        with open(os.path.join(base_dir, dataset_dir, f'{technique}__perfcorr.pickle'), 'rb') as f:\n",
    "            results = pickle.load(f)\n",
    "            corrs.append(results['corr'])\n",
    "        print(f'{technique}:', np.mean(corrs), '+/-', np.std(corrs), corrs)\n",
    "    if dataset_dir == 'ascadv1f':\n",
    "        for technique in ['cpa', 'snr', 'sosd']:\n",
    "            corrs = []\n",
    "            with open(os.path.join(base_dir, dataset_dir, f'{technique}_gt__perfcorr.pickle'), 'rb') as f:\n",
    "                results = pickle.load(f)\n",
    "                corrs.append(results['corr'])\n",
    "            print(f'{technique}_gt:', np.mean(corrs), '+/-', np.std(corrs), corrs)\n",
    "    print()"
   ]
  }
 ],
 "metadata": {
  "kernelspec": {
   "display_name": "Python 3",
   "language": "python",
   "name": "python3"
  },
  "language_info": {
   "codemirror_mode": {
    "name": "ipython",
    "version": 3
   },
   "file_extension": ".py",
   "mimetype": "text/x-python",
   "name": "python",
   "nbconvert_exporter": "python",
   "pygments_lexer": "ipython3",
   "version": "3.9.19"
  }
 },
 "nbformat": 4,
 "nbformat_minor": 2
}
